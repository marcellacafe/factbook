{
 "cells": [
  {
   "cell_type": "markdown",
   "metadata": {},
   "source": [
    "# Projeto guiado: Analisando dados do CIA Factbook usando SQL (Dataquest)\n",
    "\n",
    "Treino de análise realizada com SQL.\n",
    "\n",
    "Neste projeto, foi trabalhado os dados do CIA World Factbook, um compêndio de estatísticas sobre todos os países da Terra. O Factbook contém informações demográficas como:\n",
    "\n",
    "* population- A população a partir de 2015.\n",
    "* population_growth - A taxa de crescimento anual da população, como porcentagem.\n",
    "* area - A área total de terra e água.\n",
    "\n",
    "O arquivo para análise pode ser baixado em: https://dsserver-prod-resources-1.s3.amazonaws.com/257/factbook.db\n",
    "As consultas foram realizadas de 2 formas distintas, utilizando o ipython-sql e também o pandas"
   ]
  },
  {
   "cell_type": "markdown",
   "metadata": {},
   "source": [
    "# Descrições para algumas das colunas do dataset:\n",
    "* name - o nome do país.\n",
    "* area - A área total terrestre e marítima do país.\n",
    "* population - população do país.\n",
    "* population_growth- Crescimento populacional do país como porcentagem.\n",
    "* birth_rate - A taxa de natalidade do país ou o número de nascimentos por ano por 1.000 pessoas.\n",
    "* death_rate - A taxa de mortalidade do país ou o número de mortes por ano por 1.000 pessoas.\n",
    "* area- A área total do país (terra e água).\n",
    "* area_land- A área do país em quilômetros quadrados .\n",
    "* area_water - Área aquática do país em quilômetros quadrados."
   ]
  },
  {
   "cell_type": "code",
   "execution_count": 15,
   "metadata": {},
   "outputs": [
    {
     "output_type": "stream",
     "name": "stdout",
     "text": "Collecting ipython-sql\n  Downloading ipython_sql-0.4.0-py3-none-any.whl (19 kB)\nCollecting prettytable<1\n  Downloading prettytable-0.7.2.tar.bz2 (21 kB)\nCollecting sqlparse\n  Downloading sqlparse-0.3.1-py2.py3-none-any.whl (40 kB)\nRequirement already satisfied: ipython>=1.0 in c:\\users\\marcella\\appdata\\local\\continuum\\anaconda3\\lib\\site-packages (from ipython-sql) (7.6.1)\nRequirement already satisfied: six in c:\\users\\marcella\\appdata\\local\\continuum\\anaconda3\\lib\\site-packages (from ipython-sql) (1.12.0)\nRequirement already satisfied: sqlalchemy>=0.6.7 in c:\\users\\marcella\\appdata\\local\\continuum\\anaconda3\\lib\\site-packages (from ipython-sql) (1.3.3)\nRequirement already satisfied: ipython-genutils>=0.1.0 in c:\\users\\marcella\\appdata\\local\\continuum\\anaconda3\\lib\\site-packages (from ipython-sql) (0.2.0)\nRequirement already satisfied: prompt-toolkit<2.1.0,>=2.0.0 in c:\\users\\marcella\\appdata\\local\\continuum\\anaconda3\\lib\\site-packages (from ipython>=1.0->ipython-sql) (2.0.9)\nRequirement already satisfied: colorama; sys_platform == \"win32\" in c:\\users\\marcella\\appdata\\local\\continuum\\anaconda3\\lib\\site-packages (from ipython>=1.0->ipython-sql) (0.4.1)\nRequirement already satisfied: jedi>=0.10 in c:\\users\\marcella\\appdata\\local\\continuum\\anaconda3\\lib\\site-packages (from ipython>=1.0->ipython-sql) (0.13.3)\nRequirement already satisfied: decorator in c:\\users\\marcella\\appdata\\local\\continuum\\anaconda3\\lib\\site-packages (from ipython>=1.0->ipython-sql) (4.4.0)\nRequirement already satisfied: pickleshare in c:\\users\\marcella\\appdata\\local\\continuum\\anaconda3\\lib\\site-packages (from ipython>=1.0->ipython-sql) (0.7.5)\nRequirement already satisfied: setuptools>=18.5 in c:\\users\\marcella\\appdata\\local\\continuum\\anaconda3\\lib\\site-packages (from ipython>=1.0->ipython-sql) (41.0.1)\nRequirement already satisfied: traitlets>=4.2 in c:\\users\\marcella\\appdata\\local\\continuum\\anaconda3\\lib\\site-packages (from ipython>=1.0->ipython-sql) (4.3.2)\nRequirement already satisfied: pygments in c:\\users\\marcella\\appdata\\local\\continuum\\anaconda3\\lib\\site-packages (from ipython>=1.0->ipython-sql) (2.4.2)\nRequirement already satisfied: backcall in c:\\users\\marcella\\appdata\\local\\continuum\\anaconda3\\lib\\site-packages (from ipython>=1.0->ipython-sql) (0.1.0)\nRequirement already satisfied: wcwidth in c:\\users\\marcella\\appdata\\local\\continuum\\anaconda3\\lib\\site-packages (from prompt-toolkit<2.1.0,>=2.0.0->ipython>=1.0->ipython-sql) (0.1.7)\nRequirement already satisfied: parso>=0.3.0 in c:\\users\\marcella\\appdata\\local\\continuum\\anaconda3\\lib\\site-packages (from jedi>=0.10->ipython>=1.0->ipython-sql) (0.5.0)\nBuilding wheels for collected packages: prettytable\n  Building wheel for prettytable (setup.py): started\n  Building wheel for prettytable (setup.py): finished with status 'done'\n  Created wheel for prettytable: filename=prettytable-0.7.2-py3-none-any.whl size=13704 sha256=0f022110ccd1b7da00049ce2f8e7c47913f9b32c515b2cdf04a1fb5401ab8b17\n  Stored in directory: c:\\users\\marcella\\appdata\\local\\pip\\cache\\wheels\\8c\\76\\0b\\eb9eb3da7e2335e3577e3f96a0ae9f74f206e26457bd1a2bc8\nSuccessfully built prettytable\nInstalling collected packages: prettytable, sqlparse, ipython-sql\nSuccessfully installed ipython-sql-0.4.0 prettytable-0.7.2 sqlparse-0.3.1\nWARNING: You are using pip version 20.0.2; however, version 20.1.1 is available.\nYou should consider upgrading via the 'c:\\users\\marcella\\appdata\\local\\continuum\\anaconda3\\python.exe -m pip install --upgrade pip' command.\n"
    }
   ],
   "source": [
    "# Instalando o ipython-sql no notebook\n",
    "!pip install ipython-sql"
   ]
  },
  {
   "cell_type": "code",
   "execution_count": 18,
   "metadata": {},
   "outputs": [
    {
     "output_type": "stream",
     "name": "stderr",
     "text": "UsageError: Line magic function `%%capture` not found.\n"
    }
   ],
   "source": [
    "# Carregando as bibliotecas utilizadas\n",
    "import pandas as pd\n",
    "import sqlite3\n",
    "%%capture\n",
    "%load_ext sql # carregando o ipython-sql"
   ]
  },
  {
   "cell_type": "code",
   "execution_count": 10,
   "metadata": {},
   "outputs": [
    {
     "output_type": "execute_result",
     "data": {
      "text/plain": "   id code         name     area  area_land  area_water  population  \\\n0   1   af  Afghanistan   652230     652230           0    32564342   \n1   2   al      Albania    28748      27398        1350     3029278   \n2   3   ag      Algeria  2381741    2381741           0    39542166   \n3   4   an      Andorra      468        468           0       85580   \n4   5   ao       Angola  1246700    1246700           0    19625353   \n\n   population_growth  birth_rate  death_rate  migration_rate  \n0               2.32       38.57       13.89            1.51  \n1               0.30       12.92        6.58            3.30  \n2               1.84       23.67        4.31            0.92  \n3               0.12        8.13        6.96            0.00  \n4               2.78       38.78       11.49            0.46  ",
      "text/html": "<div>\n<style scoped>\n    .dataframe tbody tr th:only-of-type {\n        vertical-align: middle;\n    }\n\n    .dataframe tbody tr th {\n        vertical-align: top;\n    }\n\n    .dataframe thead th {\n        text-align: right;\n    }\n</style>\n<table border=\"1\" class=\"dataframe\">\n  <thead>\n    <tr style=\"text-align: right;\">\n      <th></th>\n      <th>id</th>\n      <th>code</th>\n      <th>name</th>\n      <th>area</th>\n      <th>area_land</th>\n      <th>area_water</th>\n      <th>population</th>\n      <th>population_growth</th>\n      <th>birth_rate</th>\n      <th>death_rate</th>\n      <th>migration_rate</th>\n    </tr>\n  </thead>\n  <tbody>\n    <tr>\n      <th>0</th>\n      <td>1</td>\n      <td>af</td>\n      <td>Afghanistan</td>\n      <td>652230</td>\n      <td>652230</td>\n      <td>0</td>\n      <td>32564342</td>\n      <td>2.32</td>\n      <td>38.57</td>\n      <td>13.89</td>\n      <td>1.51</td>\n    </tr>\n    <tr>\n      <th>1</th>\n      <td>2</td>\n      <td>al</td>\n      <td>Albania</td>\n      <td>28748</td>\n      <td>27398</td>\n      <td>1350</td>\n      <td>3029278</td>\n      <td>0.30</td>\n      <td>12.92</td>\n      <td>6.58</td>\n      <td>3.30</td>\n    </tr>\n    <tr>\n      <th>2</th>\n      <td>3</td>\n      <td>ag</td>\n      <td>Algeria</td>\n      <td>2381741</td>\n      <td>2381741</td>\n      <td>0</td>\n      <td>39542166</td>\n      <td>1.84</td>\n      <td>23.67</td>\n      <td>4.31</td>\n      <td>0.92</td>\n    </tr>\n    <tr>\n      <th>3</th>\n      <td>4</td>\n      <td>an</td>\n      <td>Andorra</td>\n      <td>468</td>\n      <td>468</td>\n      <td>0</td>\n      <td>85580</td>\n      <td>0.12</td>\n      <td>8.13</td>\n      <td>6.96</td>\n      <td>0.00</td>\n    </tr>\n    <tr>\n      <th>4</th>\n      <td>5</td>\n      <td>ao</td>\n      <td>Angola</td>\n      <td>1246700</td>\n      <td>1246700</td>\n      <td>0</td>\n      <td>19625353</td>\n      <td>2.78</td>\n      <td>38.78</td>\n      <td>11.49</td>\n      <td>0.46</td>\n    </tr>\n  </tbody>\n</table>\n</div>"
     },
     "metadata": {},
     "execution_count": 10
    }
   ],
   "source": [
    "# Criando a conexão do BD \n",
    "con = sqlite3.connect(\"factbook.db\")\n",
    "\n",
    "# Lendo os resultados da consulta sqlite em um DataFrame do pandas\n",
    "# Retornando os 5 primeiros dados da tabela \"facts\"\n",
    "df = pd.read_sql_query(\"SELECT * FROM facts limit 5;\", con)\n",
    "df.head()"
   ]
  },
  {
   "cell_type": "code",
   "execution_count": 27,
   "metadata": {},
   "outputs": [
    {
     "output_type": "stream",
     "name": "stdout",
     "text": "* sqlite:///factbook.db\nDone.\n"
    },
    {
     "output_type": "execute_result",
     "data": {
      "text/plain": "[(1, 'af', 'Afghanistan', 652230, 652230, 0, 32564342, 2.32, 38.57, 13.89, 1.51),\n (2, 'al', 'Albania', 28748, 27398, 1350, 3029278, 0.3, 12.92, 6.58, 3.3),\n (3, 'ag', 'Algeria', 2381741, 2381741, 0, 39542166, 1.84, 23.67, 4.31, 0.92),\n (4, 'an', 'Andorra', 468, 468, 0, 85580, 0.12, 8.13, 6.96, 0.0),\n (5, 'ao', 'Angola', 1246700, 1246700, 0, 19625353, 2.78, 38.78, 11.49, 0.46)]",
      "text/html": "<table>\n    <tr>\n        <th>id</th>\n        <th>code</th>\n        <th>name</th>\n        <th>area</th>\n        <th>area_land</th>\n        <th>area_water</th>\n        <th>population</th>\n        <th>population_growth</th>\n        <th>birth_rate</th>\n        <th>death_rate</th>\n        <th>migration_rate</th>\n    </tr>\n    <tr>\n        <td>1</td>\n        <td>af</td>\n        <td>Afghanistan</td>\n        <td>652230</td>\n        <td>652230</td>\n        <td>0</td>\n        <td>32564342</td>\n        <td>2.32</td>\n        <td>38.57</td>\n        <td>13.89</td>\n        <td>1.51</td>\n    </tr>\n    <tr>\n        <td>2</td>\n        <td>al</td>\n        <td>Albania</td>\n        <td>28748</td>\n        <td>27398</td>\n        <td>1350</td>\n        <td>3029278</td>\n        <td>0.3</td>\n        <td>12.92</td>\n        <td>6.58</td>\n        <td>3.3</td>\n    </tr>\n    <tr>\n        <td>3</td>\n        <td>ag</td>\n        <td>Algeria</td>\n        <td>2381741</td>\n        <td>2381741</td>\n        <td>0</td>\n        <td>39542166</td>\n        <td>1.84</td>\n        <td>23.67</td>\n        <td>4.31</td>\n        <td>0.92</td>\n    </tr>\n    <tr>\n        <td>4</td>\n        <td>an</td>\n        <td>Andorra</td>\n        <td>468</td>\n        <td>468</td>\n        <td>0</td>\n        <td>85580</td>\n        <td>0.12</td>\n        <td>8.13</td>\n        <td>6.96</td>\n        <td>0.0</td>\n    </tr>\n    <tr>\n        <td>5</td>\n        <td>ao</td>\n        <td>Angola</td>\n        <td>1246700</td>\n        <td>1246700</td>\n        <td>0</td>\n        <td>19625353</td>\n        <td>2.78</td>\n        <td>38.78</td>\n        <td>11.49</td>\n        <td>0.46</td>\n    </tr>\n</table>"
     },
     "metadata": {},
     "execution_count": 27
    }
   ],
   "source": [
    "# conectando ao banco com o ipython-sql\n",
    "%sql sqlite:///factbook.db \n",
    "\n",
    "# Retornando os 5 primeiros dados da tabela \"facts\"\n",
    "%sql SELECT * FROM facts limit 5;"
   ]
  },
  {
   "cell_type": "code",
   "execution_count": 13,
   "metadata": {},
   "outputs": [
    {
     "output_type": "execute_result",
     "data": {
      "text/plain": "   min_pop     max_pop  min_pop_grwth  max_pop_grwth\n0        0  7256490011            0.0           4.02",
      "text/html": "<div>\n<style scoped>\n    .dataframe tbody tr th:only-of-type {\n        vertical-align: middle;\n    }\n\n    .dataframe tbody tr th {\n        vertical-align: top;\n    }\n\n    .dataframe thead th {\n        text-align: right;\n    }\n</style>\n<table border=\"1\" class=\"dataframe\">\n  <thead>\n    <tr style=\"text-align: right;\">\n      <th></th>\n      <th>min_pop</th>\n      <th>max_pop</th>\n      <th>min_pop_grwth</th>\n      <th>max_pop_grwth</th>\n    </tr>\n  </thead>\n  <tbody>\n    <tr>\n      <th>0</th>\n      <td>0</td>\n      <td>7256490011</td>\n      <td>0.0</td>\n      <td>4.02</td>\n    </tr>\n  </tbody>\n</table>\n</div>"
     },
     "metadata": {},
     "execution_count": 13
    }
   ],
   "source": [
    "# Calculando em uma única consulta a população mínima, população máxima, crescimento mínimo da população e crescimento máximo da população (usando pandas)\n",
    "df = pd.read_sql_query(\"SELECT MIN(population) min_pop, MAX(population) max_pop, MIN(population_growth) min_pop_grwth, MAX(population_growth) max_pop_grwth                    FROM facts;\",con)\n",
    "df"
   ]
  },
  {
   "cell_type": "code",
   "execution_count": 39,
   "metadata": {},
   "outputs": [
    {
     "output_type": "stream",
     "name": "stdout",
     "text": "* sqlite:///factbook.db\nDone.\n"
    },
    {
     "output_type": "execute_result",
     "data": {
      "text/plain": "[(0, 7256490011, 0.0, 4.02)]",
      "text/html": "<table>\n    <tr>\n        <th>min_pop</th>\n        <th>max_pop</th>\n        <th>min_pop_grwth</th>\n        <th>max_pop_grwth</th>\n    </tr>\n    <tr>\n        <td>0</td>\n        <td>7256490011</td>\n        <td>0.0</td>\n        <td>4.02</td>\n    </tr>\n</table>"
     },
     "metadata": {},
     "execution_count": 39
    }
   ],
   "source": [
    "# Calculando em uma única consulta a população mínima, população máxima, crescimento mínimo da população e crescimento máximo da população (usando ipython-sql)\n",
    "%sql SELECT MIN(population) min_pop, MAX(population) max_pop, MIN(population_growth) min_pop_grwth, MAX(population_growth) max_pop_grwth FROM facts;"
   ]
  },
  {
   "cell_type": "code",
   "execution_count": 40,
   "metadata": {},
   "outputs": [
    {
     "output_type": "execute_result",
     "data": {
      "text/plain": "    id code   name  area area_land area_water  population  population_growth  \\\n0  261   xx  World  None      None       None  7256490011               1.08   \n\n   birth_rate  death_rate migration_rate  \n0        18.6         7.8           None  ",
      "text/html": "<div>\n<style scoped>\n    .dataframe tbody tr th:only-of-type {\n        vertical-align: middle;\n    }\n\n    .dataframe tbody tr th {\n        vertical-align: top;\n    }\n\n    .dataframe thead th {\n        text-align: right;\n    }\n</style>\n<table border=\"1\" class=\"dataframe\">\n  <thead>\n    <tr style=\"text-align: right;\">\n      <th></th>\n      <th>id</th>\n      <th>code</th>\n      <th>name</th>\n      <th>area</th>\n      <th>area_land</th>\n      <th>area_water</th>\n      <th>population</th>\n      <th>population_growth</th>\n      <th>birth_rate</th>\n      <th>death_rate</th>\n      <th>migration_rate</th>\n    </tr>\n  </thead>\n  <tbody>\n    <tr>\n      <th>0</th>\n      <td>261</td>\n      <td>xx</td>\n      <td>World</td>\n      <td>None</td>\n      <td>None</td>\n      <td>None</td>\n      <td>7256490011</td>\n      <td>1.08</td>\n      <td>18.6</td>\n      <td>7.8</td>\n      <td>None</td>\n    </tr>\n  </tbody>\n</table>\n</div>"
     },
     "metadata": {},
     "execution_count": 40
    }
   ],
   "source": [
    "# o (s) país (es) com a população máxima\n",
    "df = pd.read_sql_query(\"SELECT * FROM facts WHERE population == (SELECT MAX(population) FROM facts);\",con)\n",
    "df"
   ]
  },
  {
   "cell_type": "code",
   "execution_count": 37,
   "metadata": {},
   "outputs": [
    {
     "output_type": "stream",
     "name": "stdout",
     "text": "* sqlite:///factbook.db\nDone.\n"
    },
    {
     "output_type": "execute_result",
     "data": {
      "text/plain": "[(261, 'xx', 'World', None, None, None, 7256490011, 1.08, 18.6, 7.8, None)]",
      "text/html": "<table>\n    <tr>\n        <th>id</th>\n        <th>code</th>\n        <th>name</th>\n        <th>area</th>\n        <th>area_land</th>\n        <th>area_water</th>\n        <th>population</th>\n        <th>population_growth</th>\n        <th>birth_rate</th>\n        <th>death_rate</th>\n        <th>migration_rate</th>\n    </tr>\n    <tr>\n        <td>261</td>\n        <td>xx</td>\n        <td>World</td>\n        <td>None</td>\n        <td>None</td>\n        <td>None</td>\n        <td>7256490011</td>\n        <td>1.08</td>\n        <td>18.6</td>\n        <td>7.8</td>\n        <td>None</td>\n    </tr>\n</table>"
     },
     "metadata": {},
     "execution_count": 37
    }
   ],
   "source": [
    "# o (s) país (es) com a população máxima\n",
    "%%sql\n",
    "SELECT * FROM facts\n",
    "WHERE population == (\n",
    "    SELECT MAX(population) FROM facts\n",
    ");"
   ]
  },
  {
   "cell_type": "code",
   "execution_count": 41,
   "metadata": {},
   "outputs": [
    {
     "output_type": "execute_result",
     "data": {
      "text/plain": "    id code        name  area  area_land area_water  population  \\\n0  250   ay  Antarctica  None     280000       None           0   \n\n  population_growth birth_rate death_rate migration_rate  \n0              None       None       None           None  ",
      "text/html": "<div>\n<style scoped>\n    .dataframe tbody tr th:only-of-type {\n        vertical-align: middle;\n    }\n\n    .dataframe tbody tr th {\n        vertical-align: top;\n    }\n\n    .dataframe thead th {\n        text-align: right;\n    }\n</style>\n<table border=\"1\" class=\"dataframe\">\n  <thead>\n    <tr style=\"text-align: right;\">\n      <th></th>\n      <th>id</th>\n      <th>code</th>\n      <th>name</th>\n      <th>area</th>\n      <th>area_land</th>\n      <th>area_water</th>\n      <th>population</th>\n      <th>population_growth</th>\n      <th>birth_rate</th>\n      <th>death_rate</th>\n      <th>migration_rate</th>\n    </tr>\n  </thead>\n  <tbody>\n    <tr>\n      <th>0</th>\n      <td>250</td>\n      <td>ay</td>\n      <td>Antarctica</td>\n      <td>None</td>\n      <td>280000</td>\n      <td>None</td>\n      <td>0</td>\n      <td>None</td>\n      <td>None</td>\n      <td>None</td>\n      <td>None</td>\n    </tr>\n  </tbody>\n</table>\n</div>"
     },
     "metadata": {},
     "execution_count": 41
    }
   ],
   "source": [
    "# o (s) país (es) com a população mínima\n",
    "df = pd.read_sql_query(\"SELECT * FROM facts WHERE population == (SELECT MIN(population) FROM facts);\",con)\n",
    "df"
   ]
  },
  {
   "cell_type": "code",
   "execution_count": 36,
   "metadata": {},
   "outputs": [
    {
     "output_type": "stream",
     "name": "stdout",
     "text": "* sqlite:///factbook.db\nDone.\n"
    },
    {
     "output_type": "execute_result",
     "data": {
      "text/plain": "[(250, 'ay', 'Antarctica', None, 280000, None, 0, None, None, None, None)]",
      "text/html": "<table>\n    <tr>\n        <th>id</th>\n        <th>code</th>\n        <th>name</th>\n        <th>area</th>\n        <th>area_land</th>\n        <th>area_water</th>\n        <th>population</th>\n        <th>population_growth</th>\n        <th>birth_rate</th>\n        <th>death_rate</th>\n        <th>migration_rate</th>\n    </tr>\n    <tr>\n        <td>250</td>\n        <td>ay</td>\n        <td>Antarctica</td>\n        <td>None</td>\n        <td>280000</td>\n        <td>None</td>\n        <td>0</td>\n        <td>None</td>\n        <td>None</td>\n        <td>None</td>\n        <td>None</td>\n    </tr>\n</table>"
     },
     "metadata": {},
     "execution_count": 36
    }
   ],
   "source": [
    "#  O (s) país (es) com a população mínima\n",
    "%%sql\n",
    "SELECT * FROM facts\n",
    "WHERE population == (\n",
    "    SELECT MIN(population) FROM facts\n",
    ");"
   ]
  },
  {
   "cell_type": "code",
   "execution_count": 48,
   "metadata": {},
   "outputs": [
    {
     "output_type": "execute_result",
     "data": {
      "text/plain": "   avg_population       avg_area\n0    3.224267e+07  555093.546185",
      "text/html": "<div>\n<style scoped>\n    .dataframe tbody tr th:only-of-type {\n        vertical-align: middle;\n    }\n\n    .dataframe tbody tr th {\n        vertical-align: top;\n    }\n\n    .dataframe thead th {\n        text-align: right;\n    }\n</style>\n<table border=\"1\" class=\"dataframe\">\n  <thead>\n    <tr style=\"text-align: right;\">\n      <th></th>\n      <th>avg_population</th>\n      <th>avg_area</th>\n    </tr>\n  </thead>\n  <tbody>\n    <tr>\n      <th>0</th>\n      <td>3.224267e+07</td>\n      <td>555093.546185</td>\n    </tr>\n  </tbody>\n</table>\n</div>"
     },
     "metadata": {},
     "execution_count": 48
    }
   ],
   "source": [
    "# valor médio para as seguintes colunas: \"population\" e \"area\"\n",
    "df = pd.read_sql_query(\"SELECT AVG(population) avg_population, AVG(area) avg_area FROM facts WHERE name <> 'World';\",con)\n",
    "df"
   ]
  },
  {
   "cell_type": "code",
   "execution_count": 47,
   "metadata": {},
   "outputs": [
    {
     "output_type": "stream",
     "name": "stdout",
     "text": "* sqlite:///factbook.db\nDone.\n"
    },
    {
     "output_type": "execute_result",
     "data": {
      "text/plain": "[(32242666.56846473, 555093.546184739)]",
      "text/html": "<table>\n    <tr>\n        <th>avg_population</th>\n        <th>avg_area</th>\n    </tr>\n    <tr>\n        <td>32242666.56846473</td>\n        <td>555093.546184739</td>\n    </tr>\n</table>"
     },
     "metadata": {},
     "execution_count": 47
    }
   ],
   "source": [
    "# valor médio para as seguintes colunas: \"population\" e \"area\"\n",
    "%sql SELECT AVG(population) avg_population, AVG(area) avg_area FROM facts WHERE name <> 'World';"
   ]
  },
  {
   "cell_type": "code",
   "execution_count": 51,
   "metadata": {},
   "outputs": [
    {
     "output_type": "execute_result",
     "data": {
      "text/plain": "    id code            name    area  area_land  area_water  population  \\\n0   14   bg      Bangladesh  148460     130170       18290   168957745   \n1   65   gm         Germany  357022     348672        8350    80854408   \n2   85   ja           Japan  377915     364485       13430   126919659   \n3  138   rp     Philippines  300000     298170        1830   100998376   \n4  173   th        Thailand  513120     510890        2230    67976405   \n5  185   uk  United Kingdom  243610     241930        1680    64088222   \n6  192   vm         Vietnam  331210     310070       21140    94348835   \n\n   population_growth  birth_rate  death_rate  migration_rate  \n0               1.60       21.14        5.61            0.46  \n1               0.17        8.47       11.42            1.24  \n2               0.16        7.93        9.51            0.00  \n3               1.61       24.27        6.11            2.09  \n4               0.34       11.19        7.80            0.00  \n5               0.54       12.17        9.35            2.54  \n6               0.97       15.96        5.93            0.30  ",
      "text/html": "<div>\n<style scoped>\n    .dataframe tbody tr th:only-of-type {\n        vertical-align: middle;\n    }\n\n    .dataframe tbody tr th {\n        vertical-align: top;\n    }\n\n    .dataframe thead th {\n        text-align: right;\n    }\n</style>\n<table border=\"1\" class=\"dataframe\">\n  <thead>\n    <tr style=\"text-align: right;\">\n      <th></th>\n      <th>id</th>\n      <th>code</th>\n      <th>name</th>\n      <th>area</th>\n      <th>area_land</th>\n      <th>area_water</th>\n      <th>population</th>\n      <th>population_growth</th>\n      <th>birth_rate</th>\n      <th>death_rate</th>\n      <th>migration_rate</th>\n    </tr>\n  </thead>\n  <tbody>\n    <tr>\n      <th>0</th>\n      <td>14</td>\n      <td>bg</td>\n      <td>Bangladesh</td>\n      <td>148460</td>\n      <td>130170</td>\n      <td>18290</td>\n      <td>168957745</td>\n      <td>1.60</td>\n      <td>21.14</td>\n      <td>5.61</td>\n      <td>0.46</td>\n    </tr>\n    <tr>\n      <th>1</th>\n      <td>65</td>\n      <td>gm</td>\n      <td>Germany</td>\n      <td>357022</td>\n      <td>348672</td>\n      <td>8350</td>\n      <td>80854408</td>\n      <td>0.17</td>\n      <td>8.47</td>\n      <td>11.42</td>\n      <td>1.24</td>\n    </tr>\n    <tr>\n      <th>2</th>\n      <td>85</td>\n      <td>ja</td>\n      <td>Japan</td>\n      <td>377915</td>\n      <td>364485</td>\n      <td>13430</td>\n      <td>126919659</td>\n      <td>0.16</td>\n      <td>7.93</td>\n      <td>9.51</td>\n      <td>0.00</td>\n    </tr>\n    <tr>\n      <th>3</th>\n      <td>138</td>\n      <td>rp</td>\n      <td>Philippines</td>\n      <td>300000</td>\n      <td>298170</td>\n      <td>1830</td>\n      <td>100998376</td>\n      <td>1.61</td>\n      <td>24.27</td>\n      <td>6.11</td>\n      <td>2.09</td>\n    </tr>\n    <tr>\n      <th>4</th>\n      <td>173</td>\n      <td>th</td>\n      <td>Thailand</td>\n      <td>513120</td>\n      <td>510890</td>\n      <td>2230</td>\n      <td>67976405</td>\n      <td>0.34</td>\n      <td>11.19</td>\n      <td>7.80</td>\n      <td>0.00</td>\n    </tr>\n    <tr>\n      <th>5</th>\n      <td>185</td>\n      <td>uk</td>\n      <td>United Kingdom</td>\n      <td>243610</td>\n      <td>241930</td>\n      <td>1680</td>\n      <td>64088222</td>\n      <td>0.54</td>\n      <td>12.17</td>\n      <td>9.35</td>\n      <td>2.54</td>\n    </tr>\n    <tr>\n      <th>6</th>\n      <td>192</td>\n      <td>vm</td>\n      <td>Vietnam</td>\n      <td>331210</td>\n      <td>310070</td>\n      <td>21140</td>\n      <td>94348835</td>\n      <td>0.97</td>\n      <td>15.96</td>\n      <td>5.93</td>\n      <td>0.30</td>\n    </tr>\n  </tbody>\n</table>\n</div>"
     },
     "metadata": {},
     "execution_count": 51
    }
   ],
   "source": [
    "# Países em que \"population\" está acima da média e \"area\" está abaixo da média.\n",
    "df = pd.read_sql_query(\"SELECT * FROM facts WHERE population > (SELECT AVG(population) FROM facts) AND area < (SELECT AVG(area) FROM facts);\",con)\n",
    "df"
   ]
  },
  {
   "cell_type": "code",
   "execution_count": 50,
   "metadata": {},
   "outputs": [
    {
     "output_type": "stream",
     "name": "stdout",
     "text": "* sqlite:///factbook.db\nDone.\n"
    },
    {
     "output_type": "execute_result",
     "data": {
      "text/plain": "[(14, 'bg', 'Bangladesh', 148460, 130170, 18290, 168957745, 1.6, 21.14, 5.61, 0.46),\n (65, 'gm', 'Germany', 357022, 348672, 8350, 80854408, 0.17, 8.47, 11.42, 1.24),\n (85, 'ja', 'Japan', 377915, 364485, 13430, 126919659, 0.16, 7.93, 9.51, 0.0),\n (138, 'rp', 'Philippines', 300000, 298170, 1830, 100998376, 1.61, 24.27, 6.11, 2.09),\n (173, 'th', 'Thailand', 513120, 510890, 2230, 67976405, 0.34, 11.19, 7.8, 0.0),\n (185, 'uk', 'United Kingdom', 243610, 241930, 1680, 64088222, 0.54, 12.17, 9.35, 2.54),\n (192, 'vm', 'Vietnam', 331210, 310070, 21140, 94348835, 0.97, 15.96, 5.93, 0.3)]",
      "text/html": "<table>\n    <tr>\n        <th>id</th>\n        <th>code</th>\n        <th>name</th>\n        <th>area</th>\n        <th>area_land</th>\n        <th>area_water</th>\n        <th>population</th>\n        <th>population_growth</th>\n        <th>birth_rate</th>\n        <th>death_rate</th>\n        <th>migration_rate</th>\n    </tr>\n    <tr>\n        <td>14</td>\n        <td>bg</td>\n        <td>Bangladesh</td>\n        <td>148460</td>\n        <td>130170</td>\n        <td>18290</td>\n        <td>168957745</td>\n        <td>1.6</td>\n        <td>21.14</td>\n        <td>5.61</td>\n        <td>0.46</td>\n    </tr>\n    <tr>\n        <td>65</td>\n        <td>gm</td>\n        <td>Germany</td>\n        <td>357022</td>\n        <td>348672</td>\n        <td>8350</td>\n        <td>80854408</td>\n        <td>0.17</td>\n        <td>8.47</td>\n        <td>11.42</td>\n        <td>1.24</td>\n    </tr>\n    <tr>\n        <td>85</td>\n        <td>ja</td>\n        <td>Japan</td>\n        <td>377915</td>\n        <td>364485</td>\n        <td>13430</td>\n        <td>126919659</td>\n        <td>0.16</td>\n        <td>7.93</td>\n        <td>9.51</td>\n        <td>0.0</td>\n    </tr>\n    <tr>\n        <td>138</td>\n        <td>rp</td>\n        <td>Philippines</td>\n        <td>300000</td>\n        <td>298170</td>\n        <td>1830</td>\n        <td>100998376</td>\n        <td>1.61</td>\n        <td>24.27</td>\n        <td>6.11</td>\n        <td>2.09</td>\n    </tr>\n    <tr>\n        <td>173</td>\n        <td>th</td>\n        <td>Thailand</td>\n        <td>513120</td>\n        <td>510890</td>\n        <td>2230</td>\n        <td>67976405</td>\n        <td>0.34</td>\n        <td>11.19</td>\n        <td>7.8</td>\n        <td>0.0</td>\n    </tr>\n    <tr>\n        <td>185</td>\n        <td>uk</td>\n        <td>United Kingdom</td>\n        <td>243610</td>\n        <td>241930</td>\n        <td>1680</td>\n        <td>64088222</td>\n        <td>0.54</td>\n        <td>12.17</td>\n        <td>9.35</td>\n        <td>2.54</td>\n    </tr>\n    <tr>\n        <td>192</td>\n        <td>vm</td>\n        <td>Vietnam</td>\n        <td>331210</td>\n        <td>310070</td>\n        <td>21140</td>\n        <td>94348835</td>\n        <td>0.97</td>\n        <td>15.96</td>\n        <td>5.93</td>\n        <td>0.3</td>\n    </tr>\n</table>"
     },
     "metadata": {},
     "execution_count": 50
    }
   ],
   "source": [
    "# Países em que \"population\" está acima da média e \"area\" está abaixo da média.\n",
    "%sql SELECT * FROM facts WHERE population > (SELECT AVG(population) FROM facts) AND area < (SELECT AVG(area) FROM facts)"
   ]
  }
 ],
 "metadata": {
  "language_info": {
   "codemirror_mode": {
    "name": "ipython",
    "version": 3
   },
   "file_extension": ".py",
   "mimetype": "text/x-python",
   "name": "python",
   "nbconvert_exporter": "python",
   "pygments_lexer": "ipython3",
   "version": "3.7.3-final"
  },
  "orig_nbformat": 2,
  "kernelspec": {
   "name": "python37364bitbasecondaa286c35493dc445bace92a1c322874c0",
   "display_name": "Python 3.7.3 64-bit ('base': conda)"
  }
 },
 "nbformat": 4,
 "nbformat_minor": 2
}